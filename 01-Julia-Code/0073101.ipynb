{
 "cells": [
  {
   "cell_type": "code",
   "execution_count": 1,
   "metadata": {},
   "outputs": [],
   "source": [
    "using DelimitedFiles, Statistics, Random"
   ]
  },
  {
   "cell_type": "code",
   "execution_count": 2,
   "metadata": {},
   "outputs": [
    {
     "data": {
      "text/plain": [
       "\"C:\\\\Users\\\\acer\\\\AppData\\\\Local\\\\Temp\\\\jl_C88C.tmp\""
      ]
     },
     "execution_count": 2,
     "metadata": {},
     "output_type": "execute_result"
    }
   ],
   "source": [
    "filePath = download(\"https://raw.githubusercontent.com/ilkerkesen/ufldl-tutorial/master/ex1/housing.data\")"
   ]
  },
  {
   "cell_type": "code",
   "execution_count": 3,
   "metadata": {},
   "outputs": [
    {
     "data": {
      "text/plain": [
       "506×14 Array{Float64,2}:\n",
       " 0.00632  18.0   2.31  0.0  0.538  6.575  …  296.0  15.3  396.9    4.98  24.0\n",
       " 0.02731   0.0   7.07  0.0  0.469  6.421     242.0  17.8  396.9    9.14  21.6\n",
       " 0.02729   0.0   7.07  0.0  0.469  7.185     242.0  17.8  392.83   4.03  34.7\n",
       " 0.03237   0.0   2.18  0.0  0.458  6.998     222.0  18.7  394.63   2.94  33.4\n",
       " 0.06905   0.0   2.18  0.0  0.458  7.147     222.0  18.7  396.9    5.33  36.2\n",
       " 0.02985   0.0   2.18  0.0  0.458  6.43   …  222.0  18.7  394.12   5.21  28.7\n",
       " 0.08829  12.5   7.87  0.0  0.524  6.012     311.0  15.2  395.6   12.43  22.9\n",
       " 0.14455  12.5   7.87  0.0  0.524  6.172     311.0  15.2  396.9   19.15  27.1\n",
       " 0.21124  12.5   7.87  0.0  0.524  5.631     311.0  15.2  386.63  29.93  16.5\n",
       " 0.17004  12.5   7.87  0.0  0.524  6.004     311.0  15.2  386.71  17.1   18.9\n",
       " 0.22489  12.5   7.87  0.0  0.524  6.377  …  311.0  15.2  392.52  20.45  15.0\n",
       " 0.11747  12.5   7.87  0.0  0.524  6.009     311.0  15.2  396.9   13.27  18.9\n",
       " 0.09378  12.5   7.87  0.0  0.524  5.889     311.0  15.2  390.5   15.71  21.7\n",
       " ⋮                                 ⋮      ⋱          ⋮                       \n",
       " 0.27957   0.0   9.69  0.0  0.585  5.926     391.0  19.2  396.9   13.59  24.5\n",
       " 0.17899   0.0   9.69  0.0  0.585  5.67   …  391.0  19.2  393.29  17.6   23.1\n",
       " 0.2896    0.0   9.69  0.0  0.585  5.39      391.0  19.2  396.9   21.14  19.7\n",
       " 0.26838   0.0   9.69  0.0  0.585  5.794     391.0  19.2  396.9   14.1   18.3\n",
       " 0.23912   0.0   9.69  0.0  0.585  6.019     391.0  19.2  396.9   12.92  21.2\n",
       " 0.17783   0.0   9.69  0.0  0.585  5.569     391.0  19.2  395.77  15.1   17.5\n",
       " 0.22438   0.0   9.69  0.0  0.585  6.027  …  391.0  19.2  396.9   14.33  16.8\n",
       " 0.06263   0.0  11.93  0.0  0.573  6.593     273.0  21.0  391.99   9.67  22.4\n",
       " 0.04527   0.0  11.93  0.0  0.573  6.12      273.0  21.0  396.9    9.08  20.6\n",
       " 0.06076   0.0  11.93  0.0  0.573  6.976     273.0  21.0  396.9    5.64  23.9\n",
       " 0.10959   0.0  11.93  0.0  0.573  6.794     273.0  21.0  393.45   6.48  22.0\n",
       " 0.04741   0.0  11.93  0.0  0.573  6.03   …  273.0  21.0  396.9    7.88  11.9"
      ]
     },
     "execution_count": 3,
     "metadata": {},
     "output_type": "execute_result"
    }
   ],
   "source": [
    "data = readdlm(filePath)"
   ]
  },
  {
   "cell_type": "code",
   "execution_count": 4,
   "metadata": {},
   "outputs": [],
   "source": [
    "y_array = data[:,end] ## size= 506 x 1\n",
    "y_array = reshape(y_array,(1,506)) ## size= 1 x 506\n",
    "\n",
    "matrix = fill(0.0,(13,506))\n",
    "for i in 1:13, j in 1:506\n",
    "    matrix[i,j] = data[j,i]\n",
    "end"
   ]
  },
  {
   "cell_type": "code",
   "execution_count": 5,
   "metadata": {},
   "outputs": [
    {
     "data": {
      "text/plain": [
       "13×506 Array{Float64,2}:\n",
       " -0.419367  -0.416927  -0.416929  …  -0.413038  -0.407361  -0.41459 \n",
       "  0.284548  -0.48724   -0.48724      -0.48724   -0.48724   -0.48724 \n",
       " -1.28664   -0.592794  -0.592794      0.115624   0.115624   0.115624\n",
       " -0.272329  -0.272329  -0.272329     -0.272329  -0.272329  -0.272329\n",
       " -0.144075  -0.73953   -0.73953       0.157968   0.157968   0.157968\n",
       "  0.413263   0.194082   1.28145   …   0.983986   0.724955  -0.362408\n",
       " -0.119895   0.366803  -0.265549      0.796661   0.736268   0.434302\n",
       "  0.140075   0.556609   0.556609     -0.772919  -0.667776  -0.61264 \n",
       " -0.981871  -0.867024  -0.867024     -0.981871  -0.981871  -0.981871\n",
       " -0.665949  -0.986353  -0.986353     -0.802418  -0.802418  -0.802418\n",
       " -1.45756   -0.302794  -0.302794  …   1.1753     1.1753     1.1753  \n",
       "  0.440616   0.440616   0.396035      0.440616   0.402826   0.440616\n",
       " -1.0745    -0.491953  -1.20753      -0.982076  -0.864446  -0.668397"
      ]
     },
     "execution_count": 5,
     "metadata": {},
     "output_type": "execute_result"
    }
   ],
   "source": [
    "mean_array = mean(matrix,dims=2)  \n",
    "std_array = std(matrix;dims=2) \n",
    "for i in 1:13, j in 1:506\n",
    "    matrix[i,j] = (matrix[i,j] - mean_array[i])/(std_array[i])\n",
    "end\n",
    "matrix"
   ]
  },
  {
   "cell_type": "code",
   "execution_count": 6,
   "metadata": {},
   "outputs": [
    {
     "data": {
      "text/plain": [
       "1×106 Array{Float64,2}:\n",
       " 20.3  27.5  22.0  30.7  19.4  24.5  …  24.8  42.3  16.3  19.1  20.3  29.8"
      ]
     },
     "execution_count": 6,
     "metadata": {},
     "output_type": "execute_result"
    }
   ],
   "source": [
    "xtrn = fill(0.0,(13,400))\n",
    "xtest = fill(0.0,(13,106))\n",
    "\n",
    "ytrn = fill(0.0,(1,400))\n",
    "ytest = fill(0.0,(1,106))\n",
    "\n",
    "Random.seed!(1) \n",
    "randomValues = randperm(506) ##random generate value\n",
    "\n",
    "xtrn = matrix[:,randomValues[1:400]]     ## xtrn filled\n",
    "ytrn = y_array[:,randomValues[1:400]]    ## ytrn fiiled\n",
    "xtest = matrix[:,randomValues[401:end]]  ## xtest filled\n",
    "ytest = y_array[:,randomValues[401:end]] ## ytest filled"
   ]
  },
  {
   "cell_type": "code",
   "execution_count": 7,
   "metadata": {},
   "outputs": [
    {
     "data": {
      "text/plain": [
       "1×13 Array{Float64,2}:\n",
       " 0.0426637  0.0378471  -0.169487  …  -0.0208622  -0.066244  -0.0257344"
      ]
     },
     "execution_count": 7,
     "metadata": {},
     "output_type": "execute_result"
    }
   ],
   "source": [
    "w = randn(1,13) * (0.1) #define weight"
   ]
  },
  {
   "cell_type": "code",
   "execution_count": 8,
   "metadata": {},
   "outputs": [
    {
     "data": {
      "text/plain": [
       "1×400 Array{Float64,2}:\n",
       " 0.227025  -0.0623266  -0.0604358  …  0.207288  0.0592333  -0.0221864"
      ]
     },
     "execution_count": 8,
     "metadata": {},
     "output_type": "execute_result"
    }
   ],
   "source": [
    "ypred_train = w * xtrn"
   ]
  },
  {
   "cell_type": "code",
   "execution_count": 9,
   "metadata": {},
   "outputs": [
    {
     "data": {
      "text/plain": [
       "1×1 Array{Float64,2}:\n",
       " 297.3036503276774"
      ]
     },
     "execution_count": 9,
     "metadata": {},
     "output_type": "execute_result"
    }
   ],
   "source": [
    "total_train_loss = fill(0.0,(1,1))\n",
    "train_loss = (ytrn - ypred_train).^2\n",
    "for i in 1:400\n",
    "    total_train_loss[1] = total_train_loss[1] + train_loss[i]\n",
    "end\n",
    "total_train_loss = (1/(2*400))*total_train_loss"
   ]
  },
  {
   "cell_type": "code",
   "execution_count": 10,
   "metadata": {},
   "outputs": [
    {
     "data": {
      "text/plain": [
       "1×1 Array{Float64,2}:\n",
       " 299.0172855668773"
      ]
     },
     "execution_count": 10,
     "metadata": {},
     "output_type": "execute_result"
    }
   ],
   "source": [
    "ypred_test = w * xtest\n",
    "total_test_loss = fill(0.0,(1,1))\n",
    "test_loss = (ytest - ypred_test).^2\n",
    "for i in 1:106\n",
    "    total_test_loss[1] = total_test_loss[1] + test_loss[i]\n",
    "end\n",
    "total_test_loss = (1/(2*106))*total_test_loss"
   ]
  },
  {
   "cell_type": "code",
   "execution_count": 11,
   "metadata": {},
   "outputs": [
    {
     "data": {
      "text/plain": [
       "1×1 Array{Float64,2}:\n",
       " 108.0"
      ]
     },
     "execution_count": 11,
     "metadata": {},
     "output_type": "execute_result"
    }
   ],
   "source": [
    "result = fill(0.0,(1,1))\n",
    "yError = ytrn - ypred_train\n",
    "ySqrt  = sqrt(total_train_loss) \n",
    "for i in 1:400\n",
    "    result[1] = yError[i] < ySqrt[1]  ? result[1] + 1 : result[1]\n",
    "end\n",
    "result"
   ]
  }
 ],
 "metadata": {
  "kernelspec": {
   "display_name": "Julia 1.3.1",
   "language": "julia",
   "name": "julia-1.3"
  },
  "language_info": {
   "file_extension": ".jl",
   "mimetype": "application/julia",
   "name": "julia",
   "version": "1.3.1"
  }
 },
 "nbformat": 4,
 "nbformat_minor": 2
}
